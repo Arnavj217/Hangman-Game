{
 "cells": [
  {
   "cell_type": "code",
   "execution_count": 1,
   "id": "d94d878c-14d8-4f1c-9653-893ce7f013ef",
   "metadata": {},
   "outputs": [
    {
     "name": "stdout",
     "output_type": "stream",
     "text": [
      "Guess the word! HINT: word is a name of a fruit\n",
      "_ _ _ _ _ \n",
      "\n",
      "_ _ _ p _ \n",
      "_ _ a p _ \n",
      "_ _ a p _ \n",
      "g _ a p _ \n",
      "g r a p _ \n",
      "The word is:  grape\n",
      "Congratulations, You won!\n"
     ]
    }
   ],
   "source": [
    "import random\n",
    "from collections import Counter\n",
    "someWords = '''apple banana mango strawberry orange grape pineapple apricot lemon coconut watermelon \n",
    "cherry papaya berry peach litchi muskmelon guava jackfruit fig mulberry pear'''\n",
    "someWords = someWords.split(' ')\n",
    "word = random.choice(someWords)\n",
    "if __name__ == '__main__':\n",
    "    print('Guess the word! HINT: word is a name of a fruit')\n",
    "    for i in word:\n",
    "        print('_', end=' ')\n",
    "    print()\n",
    "    playing = True\n",
    "    letterGuessed = ''\n",
    "    chances = len(word) + 2\n",
    "    correct = 0\n",
    "    flag = 0\n",
    "    try:\n",
    "        while (chances != 0) and flag == 0:  \n",
    "            print()\n",
    "            chances -= 1\n",
    "            try:\n",
    "                guess = str(input('Enter a letter to guess: '))\n",
    "            except:\n",
    "                print('Enter only a letter!')\n",
    "                continue\n",
    "            if not guess.isalpha():\n",
    "                print('Enter only a LETTER')\n",
    "                continue\n",
    "            elif len(guess) > 1:\n",
    "                print('Enter only a SINGLE letter')\n",
    "                continue\n",
    "            elif guess in letterGuessed:\n",
    "                print('You have already guessed that letter')\n",
    "                continue\n",
    "            if guess in word:\n",
    "                k = word.count(guess)\n",
    "                for _ in range(k):\n",
    "                    letterGuessed += guess  \n",
    "            for char in word:\n",
    "                if char in letterGuessed and (Counter(letterGuessed) != Counter(word)):\n",
    "                    print(char, end=' ')\n",
    "                    correct += 1\n",
    "                elif (Counter(letterGuessed) == Counter(word)):\n",
    "                    print(\"The word is: \", end=' ')\n",
    "                    print(word)\n",
    "                    flag = 1\n",
    "                    print('Congratulations, You won!')\n",
    "                    break  \n",
    "                    break  \n",
    "                else:\n",
    "                    print('_', end=' ')\n",
    "        if chances <= 0 and (Counter(letterGuessed) != Counter(word)):\n",
    "            print()\n",
    "            print('You lost! Try again..')\n",
    "            print('The word was {}'.format(word))\n",
    "    except KeyboardInterrupt:\n",
    "        print()\n",
    "        print('Bye! Try again.')\n",
    "        exit()\n"
   ]
  }
 ],
 "metadata": {
  "kernelspec": {
   "display_name": "base",
   "language": "python",
   "name": "python3"
  },
  "language_info": {
   "codemirror_mode": {
    "name": "ipython",
    "version": 3
   },
   "file_extension": ".py",
   "mimetype": "text/x-python",
   "name": "python",
   "nbconvert_exporter": "python",
   "pygments_lexer": "ipython3",
   "version": "3.12.7"
  }
 },
 "nbformat": 4,
 "nbformat_minor": 5
}
